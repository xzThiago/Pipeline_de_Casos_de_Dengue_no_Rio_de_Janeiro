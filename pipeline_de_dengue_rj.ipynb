{
 "cells": [
  {
   "cell_type": "markdown",
   "id": "30cc6fe1",
   "metadata": {},
   "source": [
    "# PROJETO DE ENGENHARIA DE DADOS - PIPELINE DE DENGUE RJ"
   ]
  },
  {
   "cell_type": "code",
   "execution_count": 1,
   "id": "1e9e6792",
   "metadata": {},
   "outputs": [],
   "source": [
    "# Importando bibliotecas\n",
    "import os\n",
    "import logging\n",
    "import pandas as pd\n",
    "from dotenv import load_dotenv\n",
    "from sqlalchemy import create_engine, text\n",
    "import requests\n",
    "import io"
   ]
  },
  {
   "cell_type": "code",
   "execution_count": 2,
   "id": "e551ec3d",
   "metadata": {},
   "outputs": [
    {
     "name": "stderr",
     "output_type": "stream",
     "text": [
      "2025-06-14 17:30:33 - INFO - Ambiente configurado com sucesso\n"
     ]
    }
   ],
   "source": [
    "# Configuração de Logs\n",
    "# Configura o sistema de logging para registrar eventos importantes,\n",
    "# ajudando o monitoramento e depuração do pipeline.\n",
    "logging.basicConfig(\n",
    "    level=logging.INFO,\n",
    "    format='%(asctime)s - %(levelname)s - %(message)s',\n",
    "    datefmt='%Y-%m-%d %H:%M:%S'\n",
    ")\n",
    "\n",
    "\n",
    "# Carregamento de variáveis de ambiente\n",
    "load_dotenv()\n",
    "\n",
    "DB_HOST = os.getenv('DB_HOST')\n",
    "DB_DATABASE = os.getenv('DB_DATABASE')\n",
    "DB_USER = os.getenv('DB_USER')\n",
    "DB_PASSWORD = os.getenv('DB_PASSWORD')\n",
    "\n",
    "# Validação das variáveis de ambiente\n",
    "if not all([DB_HOST, DB_DATABASE, DB_USER, DB_PASSWORD]):\n",
    "    logging.error(\"Erro: Variáveis de ambiente do banco de dados não configuradas corretamente.\")\n",
    "    exit()\n",
    "logging.info(\"Ambiente configurado com sucesso\")"
   ]
  },
  {
   "cell_type": "markdown",
   "id": "b20c9ff0",
   "metadata": {},
   "source": [
    "## ETAPA 1: EXTRAÇÃO"
   ]
  },
  {
   "cell_type": "code",
   "execution_count": 3,
   "id": "4119ad97",
   "metadata": {},
   "outputs": [],
   "source": [
    "def extrair_dados():\n",
    "    \"\"\"\n",
    "    Extrai os dados de dengue do repositório online, simulando um navegador\n",
    "    para evitar o erro 403 Forbidden.\n",
    "    Fonte: Brasil.IO (https://brasil.io/dataset/dengue/caso/)\n",
    "    \"\"\"\n",
    "    # URL pública do dataset de dengue para todos os municípios do Brasil.\n",
    "    url = \"https://data.brasil.io/dataset/dengue/caso.csv.gz\"\n",
    "    logging.info(f\"Iniciando a extração de dados da URL: {url}\")\n",
    "\n",
    "   # Cabeçalho User-Agent para simular um navegador e evitar bloqueio (403 Forbidden)\n",
    "    headers = {\n",
    "      'User-Agent': 'Mozilla/5.0 (Windows NT 10.0; Win64; x64) AppleWebKit/537.36 (KHTML, like Gecko) Chrome/91.0.4472.124 Safari/537.36'\n",
    "    }\n",
    "\n",
    "    try:\n",
    "        # usar a biblioteca 'requests' para fazer a requisição com o cabeçalho\n",
    "        response = requests.get(url, headers=headers)\n",
    "\n",
    "        # Levanta um erro HTTP para status ruins (4xx ou 5xx)\n",
    "        response.raise_for_status()\n",
    "\n",
    "        logging.info(\"Download dos dados realizados com sucesso. Realizando a leitura\")\n",
    "\n",
    "        # Usar io.StringIO para ler o conteúdo de texto da resposta como se fosse um arquivo\n",
    "        # isso permite que o pandas leita os dados que já estão na memória\n",
    "        df_bruto = pd.read_csv(io.StringIO(response.text), compression='infer', sep=',')\n",
    "\n",
    "        logging.info(\"Dados extraídos e lidos em DataFrame com sucesso\")\n",
    "        logging.info(f\"Total de {len(df_bruto)} registro brutos extraídos.\")\n",
    "        return df_bruto\n",
    "    \n",
    "    except requests.exceptions.RequestException as e:\n",
    "        logging.error(f\"Falha nan requisição HTTP: {e}\")\n",
    "        return None\n",
    "    except Exception as e:\n",
    "        logging.error(f\"Falha ao processar os dados extraídoso: {e}\")\n",
    "        return None"
   ]
  },
  {
   "cell_type": "markdown",
   "id": "70d9edbc",
   "metadata": {},
   "source": [
    "## ETAPA 2: TRANSFORMAÇÃO"
   ]
  },
  {
   "cell_type": "code",
   "execution_count": 4,
   "id": "d1cd2fc3",
   "metadata": {},
   "outputs": [],
   "source": [
    "def transformar_dados(df):\n",
    "    \"\"\"\n",
    "    Aplica as transformações, limpeza e validações nos dados\n",
    "    \"\"\"\n",
    "    if df is None or df.empty:\n",
    "        logging.warning(\"Dataframe de entrada está vazio ou nulo. Pulando transformação\")\n",
    "        return None\n",
    "    \n",
    "    logging.info(\"Iniciando processo de transformação dos dados\")\n",
    "\n",
    "    # Filtragem por Estado\n",
    "    # O código de estado (IBGE) para o Rio de Janeiro é 33\n",
    "    # A coluna 'state' armazena a sigla 'RJ'\n",
    "    df_rj = df[df['state'] == 'RJ'].copy()\n",
    "    if df_rj.empty:\n",
    "        logging.warning(\"Nenhum dados encontrado para o estado do Rio de Janeiro (RJ)\")\n",
    "        return None\n",
    "    logging.info(f\"Dados filtrados para o Rio de Janeiro. {len(df_rj)} registros encontrados\")\n",
    "\n",
    "    # Seleção e Renomeação de Colunas\n",
    "    # Selecionamos as colunas relevantes e renomeamos para um padrão mais claro\n",
    "    colunas_relevantes = {\n",
    "        'date': 'data_notificacao',\n",
    "        'city': 'cidade',\n",
    "        'city_ibge_code': 'codigo_ibge',\n",
    "        'cases': 'casos_confirmados'\n",
    "    }\n",
    "    df_transformado = df_rj[list(colunas_relevantes.keys())].copy()\n",
    "    df_transformado.rename(columns=colunas_relevantes, inplace=True)\n",
    "    logging.info(\"Colunas selecionadas e renomeadas.\")\n",
    "\n",
    "    # Limpeza e validação de Dados\n",
    "    # Corrigir tipos de dados\n",
    "    df_transformado['data_notificacao'] = pd.to_datetime(df_transformado['data_notificacao'], errors='coerce')\n",
    "    df_transformado['codigo_ibge'] = df_transformado['codigo_ibge'].astype(int)\n",
    "    df_transformado['casos_confirmados'] = df_transformado['casos_confirmados'].astype(int)\n",
    "    logging.info(\"Tipos de dados corrigidos: data, ibge_code, casos.\")\n",
    "\n",
    "    #Tratar valores nulos (se houver)\n",
    "    df_transformado.dropna(subset=['data_notificacao'], inplace=True)\n",
    "\n",
    "    # Validar se não há casos negativos\n",
    "    if (df_transformado['casos_confirmados'] < 0).any():\n",
    "        logging.warning(\"Atenção: existem registros com casos confirmados negativos. Serão removidos.\")\n",
    "        df_transformado = df_transformado[df_transformado['casos_confirmados'] >= 0]\n",
    "\n",
    "    # Criação de novas colunas (Features)\n",
    "    df_transformado['ano'] = df_transformado['data_notificacao'].dt.year\n",
    "    df_transformado['mes'] = df_transformado['data_notificacao'].dt.month\n",
    "    df_transformado['semana_epidemiologica'] = df_transformado['data_notificacao'].dt.isocalendar().weeh.astype(int)\n",
    "    logging.info(\"Novas colunas (ano, mes, semana_epidemiologica) criadas\")\n",
    "\n",
    "    # Remoção de duplicatas\n",
    "    # Garante que cada combinação de cidade e data seja única.\n",
    "    num_duplicados_antes = df_transformado.duplicated().sum()\n",
    "    df_transformado.drop_duplicates(inplace=True)\n",
    "    logging.info(f\"{num_duplicados_antes} registros duplicados foram removidos\")\n",
    "    \n",
    "    logging.info(\"Processo de transformação concluído\")\n",
    "    return df_transformado"
   ]
  },
  {
   "cell_type": "markdown",
   "id": "c96fd771",
   "metadata": {},
   "source": [
    "## ETAPA 3: CARGA"
   ]
  },
  {
   "cell_type": "code",
   "execution_count": 5,
   "id": "9f6afe23",
   "metadata": {},
   "outputs": [],
   "source": [
    "def carregar_dados(df, nome_tabela):\n",
    "    \"\"\"Carrega o DataFrame tratado para o banco de dados MariaDB\"\"\"\n",
    "    if df is None or df.empty:\n",
    "        logging.warning(\"DataFrame transformado está vazio. Nenhum dado para carregar\")\n",
    "        return\n",
    "    \n",
    "    logging.info(f\"Iniciando a carga de dados para a tabela '{nome_tabela}'.\")\n",
    "\n",
    "    try:\n",
    "        # Conexão com o banco de dados\n",
    "        # String de conexão para o MariaDB\n",
    "        connection_string = f\"mysql+mysqlconnector://{DB_USER}:{DB_PASSWORD}@{DB_HOST}/{DB_DATABASE}\"\n",
    "        engine = create_engine(connection_string)\n",
    "\n",
    "        with engine.connect() as connection:\n",
    "            logging.info(\"Conexão com o banco de dados MariaDB estabelecida\")\n",
    "\n",
    "            # Inserção dos Dados\n",
    "            df.to_sql(\n",
    "                nome=nome_tabela,\n",
    "                con=engine,\n",
    "                if_exists='replace',\n",
    "                index=False,\n",
    "                chunksize=1000 # Insere dados em lotes para melhor performance\n",
    "            )\n",
    "            # Verificação e criação de chave primária\n",
    "            query_pk = f'ALTER TABLE {nome_tabela} ADD PRIMARY KEY (codigo_ibge, data_notificacao);'\n",
    "            connection.execute(text(query_pk))\n",
    "            logging.info(f\"Chave primária adicionada a tabela '{nome_tabela}\")\n",
    "\n",
    "        logging.info(f\"Carga de {len(df)} registros na tabela '{nome_tabela} concluída com sucesso.\")\n",
    "\n",
    "    except Exception as e:\n",
    "        logging.error(f\"Falha ao carregar os dados no banco de dados: {e}\")\n",
    "        \n"
   ]
  },
  {
   "cell_type": "markdown",
   "id": "d47c4c81",
   "metadata": {},
   "source": [
    "## EXECUÇÃO DO PIPELINE"
   ]
  },
  {
   "cell_type": "code",
   "execution_count": 6,
   "id": "f9ecba10",
   "metadata": {},
   "outputs": [
    {
     "name": "stderr",
     "output_type": "stream",
     "text": [
      "2025-06-14 17:30:34 - INFO - INICIANDO PIPELINE DE DADOS DE DENGUE - RIO DE JANEIRO\n",
      "2025-06-14 17:30:34 - INFO - Iniciando a extração de dados da URL: https://data.brasil.io/dataset/dengue/caso.csv.gz\n",
      "2025-06-14 17:30:34 - ERROR - Falha nan requisição HTTP: 404 Client Error: Not Found for url: https://data.brasil.io/dataset/dengue/caso.csv.gz\n",
      "2025-06-14 17:30:34 - WARNING - Dataframe de entrada está vazio ou nulo. Pulando transformação\n",
      "2025-06-14 17:30:34 - WARNING - Pipeline encerrado pois não há dados tratados para carregar.\n",
      "2025-06-14 17:30:34 - INFO - PIPELINE DE DADOS FINALIZADO!\n"
     ]
    }
   ],
   "source": [
    "if __name__ == \"__main__\":\n",
    "    logging.info(\"INICIANDO PIPELINE DE DADOS DE DENGUE - RIO DE JANEIRO\")\n",
    "\n",
    "    #1. Extração \n",
    "    dados_brutos = extrair_dados()\n",
    "\n",
    "    #2. Transformação\n",
    "    dados_tratados = transformar_dados(dados_brutos)\n",
    "    \n",
    "    # 3. Carga\n",
    "    if dados_tratados is not None:\n",
    "        carregar_dados(dados_tratados, nome_tabela=\"casos_dengue_rj\")\n",
    "    else:\n",
    "        logging.warning(\"Pipeline encerrado pois não há dados tratados para carregar.\")\n",
    "\n",
    "    logging.info(\"PIPELINE DE DADOS FINALIZADO!\")"
   ]
  }
 ],
 "metadata": {
  "kernelspec": {
   "display_name": "Python 3",
   "language": "python",
   "name": "python3"
  },
  "language_info": {
   "codemirror_mode": {
    "name": "ipython",
    "version": 3
   },
   "file_extension": ".py",
   "mimetype": "text/x-python",
   "name": "python",
   "nbconvert_exporter": "python",
   "pygments_lexer": "ipython3",
   "version": "3.12.3"
  }
 },
 "nbformat": 4,
 "nbformat_minor": 5
}
